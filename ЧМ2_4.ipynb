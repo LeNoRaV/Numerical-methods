{
  "nbformat": 4,
  "nbformat_minor": 0,
  "metadata": {
    "colab": {
      "provenance": []
    },
    "kernelspec": {
      "name": "python3",
      "display_name": "Python 3"
    },
    "language_info": {
      "name": "python"
    }
  },
  "cells": [
    {
      "cell_type": "code",
      "execution_count": null,
      "metadata": {
        "id": "Tvu9rzeeYBrY"
      },
      "outputs": [],
      "source": [
        "import pandas as pd\n",
        "import numpy as np\n",
        "import scipy as sp\n",
        "import math\n",
        "import matplotlib.pyplot as plt\n",
        "import seaborn as sb\n",
        "from prettytable import PrettyTable\n",
        "\n",
        "np.set_printoptions(precision=3, suppress=True)"
      ]
    },
    {
      "cell_type": "code",
      "source": [
        "k=20\n",
        "A1=np.arange (0, 2+0.00001, 2/20)\n",
        "print(A1)"
      ],
      "metadata": {
        "colab": {
          "base_uri": "https://localhost:8080/"
        },
        "id": "ROUfpCm9YGtc",
        "outputId": "db80edd6-e9af-48c2-87d6-a2ef57ea80f4"
      },
      "execution_count": null,
      "outputs": [
        {
          "output_type": "stream",
          "name": "stdout",
          "text": [
            "[0.  0.1 0.2 0.3 0.4 0.5 0.6 0.7 0.8 0.9 1.  1.1 1.2 1.3 1.4 1.5 1.6 1.7\n",
            " 1.8 1.9 2. ]\n"
          ]
        }
      ]
    },
    {
      "cell_type": "code",
      "source": [
        "A=[]\n",
        "h=2/20\n",
        "s=0\n",
        "for i in range(0,k+1):\n",
        "  A.append(s)\n",
        "  s+=h\n",
        "print(A)"
      ],
      "metadata": {
        "colab": {
          "base_uri": "https://localhost:8080/"
        },
        "id": "dauJkzThcFIE",
        "outputId": "e90a7bc6-ceeb-4eac-eb99-a715cd8480a4"
      },
      "execution_count": null,
      "outputs": [
        {
          "output_type": "stream",
          "name": "stdout",
          "text": [
            "[0, 0.1, 0.2, 0.30000000000000004, 0.4, 0.5, 0.6, 0.7, 0.7999999999999999, 0.8999999999999999, 0.9999999999999999, 1.0999999999999999, 1.2, 1.3, 1.4000000000000001, 1.5000000000000002, 1.6000000000000003, 1.7000000000000004, 1.8000000000000005, 1.9000000000000006, 2.0000000000000004]\n"
          ]
        }
      ]
    },
    {
      "cell_type": "code",
      "source": [
        "N=10\n",
        "n=52\n",
        "a=4\n",
        "b=1\n",
        "c=8"
      ],
      "metadata": {
        "id": "mRTJFx8eaDbJ"
      },
      "execution_count": null,
      "outputs": []
    },
    {
      "cell_type": "code",
      "source": [
        "from scipy import integrate\n",
        "def f(x):\n",
        "    return ((a+55-n)*x**4+(b-55+n)*x**2+c)/((x+1)*(x**2+1))\n",
        "v, err = integrate.quad(f, 0, 2)\n",
        "print (\"Точное значение интеграла f(x) =\", v)"
      ],
      "metadata": {
        "colab": {
          "base_uri": "https://localhost:8080/"
        },
        "id": "MpnppbX9aLRq",
        "outputId": "cf45e503-eff4-4c5c-c34e-43cd7576f87b"
      },
      "execution_count": null,
      "outputs": [
        {
          "output_type": "stream",
          "name": "stdout",
          "text": [
            "Точное значение интеграла f(x) = 9.711632849747556\n"
          ]
        }
      ]
    },
    {
      "cell_type": "code",
      "source": [
        "# Квадратурная формула прямоугольников\n",
        "Teta=[]\n",
        "for i in range(0,k):\n",
        "  Teta.append((A[i]+A[i+1])/2)\n",
        "print(Teta)\n",
        "\n",
        "I=0\n",
        "for i in range(0,k):\n",
        "  I+=f(Teta[i])\n",
        "I=I*h\n",
        "print(\"(Прям.) Приближенное значение интеграла f(x) =\", I)\n"
      ],
      "metadata": {
        "colab": {
          "base_uri": "https://localhost:8080/"
        },
        "id": "MyeCe7ADbSrs",
        "outputId": "405384bf-8206-48ee-dffa-c33e61f06d48"
      },
      "execution_count": null,
      "outputs": [
        {
          "output_type": "stream",
          "name": "stdout",
          "text": [
            "[0.05, 0.15000000000000002, 0.25, 0.35000000000000003, 0.45, 0.55, 0.6499999999999999, 0.75, 0.8499999999999999, 0.95, 1.0499999999999998, 1.15, 1.25, 1.35, 1.4500000000000002, 1.5500000000000003, 1.6500000000000004, 1.7500000000000004, 1.8500000000000005, 1.9500000000000006]\n",
            "(Прям.) Приближенное значение интеграла f(x) = 9.705823560689762\n"
          ]
        }
      ]
    },
    {
      "cell_type": "code",
      "source": [
        "I=0\n",
        "I+=f(A[0])/2\n",
        "I+=f(A[k])/2\n",
        "for i in range(1,k):\n",
        "  I+=f(A[i])\n",
        "I=I*h\n",
        "print(\"(Трап.) Приближенное значение интеграла f(x) =\", I)"
      ],
      "metadata": {
        "colab": {
          "base_uri": "https://localhost:8080/"
        },
        "id": "0kk46TLOftYI",
        "outputId": "d79dd6fc-9404-4da7-ea3d-e710e50f50f0"
      },
      "execution_count": null,
      "outputs": [
        {
          "output_type": "stream",
          "name": "stdout",
          "text": [
            "(Трап.) Приближенное значение интеграла f(x) = 9.723249808670637\n"
          ]
        }
      ]
    },
    {
      "cell_type": "code",
      "source": [
        "I=0\n",
        "I+=f(A[0])\n",
        "I+=f(A[k])\n",
        "for i in range(1,k):\n",
        "  if i%2==0: I+=f(A[i])*2\n",
        "  else: I+=f(A[i])*4\n",
        "I=I*h/3\n",
        "print(\"(Параб.) Приближенное значение интеграла f(x) =\", I)"
      ],
      "metadata": {
        "colab": {
          "base_uri": "https://localhost:8080/"
        },
        "id": "zGoBZetThBMy",
        "outputId": "6c22ab3c-7838-40b6-ff58-201891d3a6c2"
      },
      "execution_count": null,
      "outputs": [
        {
          "output_type": "stream",
          "name": "stdout",
          "text": [
            "(Параб.) Приближенное значение интеграла f(x) = 9.711623316425113\n"
          ]
        }
      ]
    },
    {
      "cell_type": "code",
      "source": [
        "B=[]\n",
        "for i in range(0,k+1):\n",
        "  B.append(1-math.cos((2*i+1)/(2*(k+1))*math.pi))\n",
        "print(B)\n",
        "\n",
        "def L(x, y, t):\n",
        "    z = 0\n",
        "    for i in np.phi():\n",
        "        c1 = 1\n",
        "        c2 = 1\n",
        "        for j in range(x):\n",
        "            if i == j:\n",
        "                c1 = c1 * 1\n",
        "                c2 = c2 * 1\n",
        "            else:\n",
        "                c1 = c1 * (t - x[j])\n",
        "                c2 = c2 * (x[i] - x[j])\n",
        "        z = z + y[i] * c1 / c2\n",
        "    return z\n",
        "\n",
        "v, err = integrate.quad(L(k,B,j), 0, 2)\n",
        "print (\"Значение интеграла L(x) =\", v)"
      ],
      "metadata": {
        "colab": {
          "base_uri": "https://localhost:8080/",
          "height": 453
        },
        "id": "6xAm3HhQhdsD",
        "outputId": "a3196328-8b2b-4ce7-861d-90eb5fece7a8"
      },
      "execution_count": null,
      "outputs": [
        {
          "output_type": "stream",
          "name": "stdout",
          "text": [
            "[0.0027962028188198707, 0.02507208781817638, 0.06912625135579575, 0.1339745962155613, 0.2181685175319702, 0.31982726222908064, 0.43667994193637805, 0.5661162608824418, 0.7052448255890957, 0.8509577338238256, 0.9999999999999999, 1.1490422661761746, 1.2947551744109043, 1.433883739117558, 1.563320058063622, 1.6801727377709197, 1.78183148246803, 1.8660254037844388, 1.930873748644204, 1.9749279121818235, 1.99720379718118]\n"
          ]
        },
        {
          "output_type": "error",
          "ename": "TypeError",
          "evalue": "ignored",
          "traceback": [
            "\u001b[0;31m---------------------------------------------------------------------------\u001b[0m",
            "\u001b[0;31mTypeError\u001b[0m                                 Traceback (most recent call last)",
            "\u001b[0;32m<ipython-input-42-07016c2d737f>\u001b[0m in \u001b[0;36m<module>\u001b[0;34m\u001b[0m\n\u001b[1;32m     19\u001b[0m     \u001b[0;32mreturn\u001b[0m \u001b[0mz\u001b[0m\u001b[0;34m\u001b[0m\u001b[0;34m\u001b[0m\u001b[0m\n\u001b[1;32m     20\u001b[0m \u001b[0;34m\u001b[0m\u001b[0m\n\u001b[0;32m---> 21\u001b[0;31m \u001b[0mv\u001b[0m\u001b[0;34m,\u001b[0m \u001b[0merr\u001b[0m \u001b[0;34m=\u001b[0m \u001b[0mintegrate\u001b[0m\u001b[0;34m.\u001b[0m\u001b[0mquad\u001b[0m\u001b[0;34m(\u001b[0m\u001b[0mL\u001b[0m\u001b[0;34m,\u001b[0m \u001b[0;36m0\u001b[0m\u001b[0;34m,\u001b[0m \u001b[0;36m2\u001b[0m\u001b[0;34m)\u001b[0m\u001b[0;34m\u001b[0m\u001b[0;34m\u001b[0m\u001b[0m\n\u001b[0m\u001b[1;32m     22\u001b[0m \u001b[0mprint\u001b[0m \u001b[0;34m(\u001b[0m\u001b[0;34m\"Значение интеграла L(x) =\"\u001b[0m\u001b[0;34m,\u001b[0m \u001b[0mv\u001b[0m\u001b[0;34m)\u001b[0m\u001b[0;34m\u001b[0m\u001b[0;34m\u001b[0m\u001b[0m\n",
            "\u001b[0;32m/usr/local/lib/python3.8/dist-packages/scipy/integrate/quadpack.py\u001b[0m in \u001b[0;36mquad\u001b[0;34m(func, a, b, args, full_output, epsabs, epsrel, limit, points, weight, wvar, wopts, maxp1, limlst)\u001b[0m\n\u001b[1;32m    349\u001b[0m \u001b[0;34m\u001b[0m\u001b[0m\n\u001b[1;32m    350\u001b[0m     \u001b[0;32mif\u001b[0m \u001b[0mweight\u001b[0m \u001b[0;32mis\u001b[0m \u001b[0;32mNone\u001b[0m\u001b[0;34m:\u001b[0m\u001b[0;34m\u001b[0m\u001b[0;34m\u001b[0m\u001b[0m\n\u001b[0;32m--> 351\u001b[0;31m         retval = _quad(func, a, b, args, full_output, epsabs, epsrel, limit,\n\u001b[0m\u001b[1;32m    352\u001b[0m                        points)\n\u001b[1;32m    353\u001b[0m     \u001b[0;32melse\u001b[0m\u001b[0;34m:\u001b[0m\u001b[0;34m\u001b[0m\u001b[0;34m\u001b[0m\u001b[0m\n",
            "\u001b[0;32m/usr/local/lib/python3.8/dist-packages/scipy/integrate/quadpack.py\u001b[0m in \u001b[0;36m_quad\u001b[0;34m(func, a, b, args, full_output, epsabs, epsrel, limit, points)\u001b[0m\n\u001b[1;32m    461\u001b[0m     \u001b[0;32mif\u001b[0m \u001b[0mpoints\u001b[0m \u001b[0;32mis\u001b[0m \u001b[0;32mNone\u001b[0m\u001b[0;34m:\u001b[0m\u001b[0;34m\u001b[0m\u001b[0;34m\u001b[0m\u001b[0m\n\u001b[1;32m    462\u001b[0m         \u001b[0;32mif\u001b[0m \u001b[0minfbounds\u001b[0m \u001b[0;34m==\u001b[0m \u001b[0;36m0\u001b[0m\u001b[0;34m:\u001b[0m\u001b[0;34m\u001b[0m\u001b[0;34m\u001b[0m\u001b[0m\n\u001b[0;32m--> 463\u001b[0;31m             \u001b[0;32mreturn\u001b[0m \u001b[0m_quadpack\u001b[0m\u001b[0;34m.\u001b[0m\u001b[0m_qagse\u001b[0m\u001b[0;34m(\u001b[0m\u001b[0mfunc\u001b[0m\u001b[0;34m,\u001b[0m\u001b[0ma\u001b[0m\u001b[0;34m,\u001b[0m\u001b[0mb\u001b[0m\u001b[0;34m,\u001b[0m\u001b[0margs\u001b[0m\u001b[0;34m,\u001b[0m\u001b[0mfull_output\u001b[0m\u001b[0;34m,\u001b[0m\u001b[0mepsabs\u001b[0m\u001b[0;34m,\u001b[0m\u001b[0mepsrel\u001b[0m\u001b[0;34m,\u001b[0m\u001b[0mlimit\u001b[0m\u001b[0;34m)\u001b[0m\u001b[0;34m\u001b[0m\u001b[0;34m\u001b[0m\u001b[0m\n\u001b[0m\u001b[1;32m    464\u001b[0m         \u001b[0;32melse\u001b[0m\u001b[0;34m:\u001b[0m\u001b[0;34m\u001b[0m\u001b[0;34m\u001b[0m\u001b[0m\n\u001b[1;32m    465\u001b[0m             \u001b[0;32mreturn\u001b[0m \u001b[0m_quadpack\u001b[0m\u001b[0;34m.\u001b[0m\u001b[0m_qagie\u001b[0m\u001b[0;34m(\u001b[0m\u001b[0mfunc\u001b[0m\u001b[0;34m,\u001b[0m\u001b[0mbound\u001b[0m\u001b[0;34m,\u001b[0m\u001b[0minfbounds\u001b[0m\u001b[0;34m,\u001b[0m\u001b[0margs\u001b[0m\u001b[0;34m,\u001b[0m\u001b[0mfull_output\u001b[0m\u001b[0;34m,\u001b[0m\u001b[0mepsabs\u001b[0m\u001b[0;34m,\u001b[0m\u001b[0mepsrel\u001b[0m\u001b[0;34m,\u001b[0m\u001b[0mlimit\u001b[0m\u001b[0;34m)\u001b[0m\u001b[0;34m\u001b[0m\u001b[0;34m\u001b[0m\u001b[0m\n",
            "\u001b[0;31mTypeError\u001b[0m: L() missing 2 required positional arguments: 'y' and 't'"
          ]
        }
      ]
    }
  ]
}